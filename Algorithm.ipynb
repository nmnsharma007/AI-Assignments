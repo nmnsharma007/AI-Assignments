{
 "cells": [
  {
   "cell_type": "markdown",
   "id": "95703891",
   "metadata": {},
   "source": [
    "## Import libraries"
   ]
  },
  {
   "cell_type": "code",
   "execution_count": 3,
   "id": "a820a13a",
   "metadata": {},
   "outputs": [],
   "source": [
    "from queue import PriorityQueue"
   ]
  },
  {
   "cell_type": "markdown",
   "id": "5ce9411e",
   "metadata": {},
   "source": [
    "## Read the node and cost information"
   ]
  },
  {
   "cell_type": "code",
   "execution_count": 5,
   "id": "d11573f1",
   "metadata": {},
   "outputs": [
    {
     "name": "stdout",
     "output_type": "stream",
     "text": [
      "Enter file path: untitled.txt\n"
     ]
    }
   ],
   "source": [
    "path_to_file = str(input(\"Enter file path: \"))\n",
    "with open(path_to_file) as f:\n",
    "    lines = f.read().splitlines() # split lines based on newline\n",
    "    lines = lines[1:-1]\n"
   ]
  },
  {
   "cell_type": "code",
   "execution_count": null,
   "id": "e1cb7756",
   "metadata": {},
   "outputs": [],
   "source": [
    "class Graph:\n",
    "    def __init__(self,num_of_vertices):\n",
    "        self.vertices = num_of_vertices\n",
    "        self.edges = [[-1 for j in range(num_of_vertices)] for i in range(num_of_vertices)]\n",
    "        self.visited = []\n",
    "    \n",
    "    def add_edge(self,u,v,cost):\n",
    "        self.edges[u][v] = cost\n",
    "        self.edges[v][u] = cost\n",
    "\n",
    "def uniform_cost(graph,start_state,goal_state):\n",
    "    lowest_cost = [float('inf') for v in range(graph.vertices)]\n",
    "    parent = [-1 for v in range(graph.vertices)]\n",
    "    \n",
    "    lowest_cost[start_state] = 0\n",
    "    pq = PriorityQueue()\n",
    "    pq.push((0,start_state))\n",
    "    \n",
    "    while not pq.empty():\n",
    "        (dist,current_state) = pq.get()\n",
    "        graph.visited.append(current_state)\n",
    "        if current_state == goal_state:\n",
    "            break\n",
    "        \n",
    "        for next_state in range(graph.v):\n",
    "            if graph.edges[current_state][next_state] != -1:\n",
    "                weight = graph.edges[current_state][next_state]\n",
    "                if next_state not in graphs.visited:\n",
    "                    if lowest_cost[next_state] > lowest_cost[current_state] + weight:\n",
    "                        lowest_cost[next_state] = lowest_cost[current_state] + weight\n",
    "                        pq.put((lowest_cost[next_state],next_state))\n",
    "    \n",
    "node_num = {} # a dictionary for mapping node names to numbers for graph traversal\n",
    "label = 0 # assigning node numbers to each node for graph traversal\n",
    "for edge in lines:\n",
    "    edge = edge[1:-2] # remove the square brackets\n",
    "    first_node,second_node,cost = edge.split(',') # get the edge information\n",
    "    if not cost.isnumeric(): # check if the cost is a valid number or not\n",
    "        print(\"Cost values are not numbers.\")\n",
    "        exit(0)\n",
    "    if first_node not in node_num:\n",
    "        node_num[first_node] = label\n",
    "        label = label + 1\n",
    "    if second_node not in node_num:\n",
    "        node_num[second_node] = label\n",
    "        label = label + 1\n",
    "        "
   ]
  },
  {
   "cell_type": "markdown",
   "id": "25d89be7",
   "metadata": {},
   "source": [
    "## Uniform Cost Search"
   ]
  },
  {
   "cell_type": "code",
   "execution_count": null,
   "id": "67d5f867",
   "metadata": {},
   "outputs": [],
   "source": [
    "def uniform_cost(graph,start_state,goal_state):\n",
    "    lowest_cost = [float('inf') for v in range(graph.vertices)]\n",
    "    parent = [-1 for v in range(graph.vertices)]\n",
    "    \n",
    "    lowest_cost[start_state] = 0\n",
    "    pq = PriorityQueue()\n",
    "    pq.push((0,start_state))\n",
    "    \n",
    "    while not pq.empty():\n",
    "        (dist,current_state) = pq.get()\n",
    "        graph.visited.append(current_state)\n",
    "        if current_state == goal_state:\n",
    "            break\n",
    "        \n",
    "        for next_state in range(graph.v):\n",
    "            if graph.edges[current_state][next_state] != -1:\n",
    "                weight = graph.edges[current_state][next_state]\n",
    "                if next_state not in graphs.visited:\n",
    "                    if lowest_cost[next_state] > lowest_cost[current_state] + weight:\n",
    "                        lowest_cost[next_state] = lowest_cost[current_state] + weight\n",
    "                        pq.put((lowest_cost[next_state],next_state))"
   ]
  },
  {
   "cell_type": "markdown",
   "id": "72a60b06",
   "metadata": {},
   "source": [
    "## A* search"
   ]
  }
 ],
 "metadata": {
  "kernelspec": {
   "display_name": "Python 3 (ipykernel)",
   "language": "python",
   "name": "python3"
  },
  "language_info": {
   "codemirror_mode": {
    "name": "ipython",
    "version": 3
   },
   "file_extension": ".py",
   "mimetype": "text/x-python",
   "name": "python",
   "nbconvert_exporter": "python",
   "pygments_lexer": "ipython3",
   "version": "3.9.7"
  }
 },
 "nbformat": 4,
 "nbformat_minor": 5
}
