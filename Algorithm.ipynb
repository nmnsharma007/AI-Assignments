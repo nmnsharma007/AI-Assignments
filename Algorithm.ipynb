{
 "cells": [
  {
   "cell_type": "markdown",
   "id": "95703891",
   "metadata": {},
   "source": [
    "## Import libraries"
   ]
  },
  {
   "cell_type": "code",
   "execution_count": 26,
   "id": "a820a13a",
   "metadata": {},
   "outputs": [],
   "source": [
    "from queue import PriorityQueue"
   ]
  },
  {
   "cell_type": "markdown",
   "id": "5ce9411e",
   "metadata": {},
   "source": [
    "## Read the node and cost information"
   ]
  },
  {
   "cell_type": "code",
   "execution_count": 34,
   "id": "d11573f1",
   "metadata": {},
   "outputs": [
    {
     "name": "stdout",
     "output_type": "stream",
     "text": [
      "Enter file path: untitled.txt\n",
      "A B 60\n",
      "A C 125\n",
      "A E 115\n",
      "B C 130\n",
      "E F 60\n",
      "F G 55\n",
      "G H 90\n",
      "C D 90\n",
      "C G 70\n",
      "D I 150\n",
      "H I 8\n"
     ]
    }
   ],
   "source": [
    "path_to_file = str(input(\"Enter file path: \"))\n",
    "with open(path_to_file) as f:\n",
    "    lines = f.read().splitlines() # split lines based on newline\n",
    "    lines = lines[1:-1]\n"
   ]
  },
  {
   "cell_type": "code",
   "execution_count": null,
   "id": "e1cb7756",
   "metadata": {},
   "outputs": [],
   "source": [
    "class Graph:\n",
    "    def __init__(self,num_of_vertices):\n",
    "        self.vertices = num_of_vertices\n",
    "        self.edges = [[0 for j in range(num_of_vertices)] for i in range(num_of_vertices)]\n",
    "    \n",
    "        \n",
    "node_num = {} # a dictionary for mapping node names to numbers for graph traversal\n",
    "label = 0 # assigning node numbers to each node for graph traversal\n",
    "for edge in lines:\n",
    "    edge = edge[1:-2] # remove the square brackets\n",
    "    first_node,second_node,cost = edge.split(',') # get the edge information\n",
    "    if not cost.isnumeric(): # check if the cost is a valid number or not\n",
    "        print(\"Cost values are not numbers.\")\n",
    "        exit(0)\n",
    "    if first_node not in node_num:\n",
    "        node_num[first_node] = label\n",
    "        label = label + 1\n",
    "    if second_node not in node_num:\n",
    "        node_num[second_node] = label\n",
    "        label = label + 1\n",
    "        "
   ]
  }
 ],
 "metadata": {
  "kernelspec": {
   "display_name": "Python 3 (ipykernel)",
   "language": "python",
   "name": "python3"
  },
  "language_info": {
   "codemirror_mode": {
    "name": "ipython",
    "version": 3
   },
   "file_extension": ".py",
   "mimetype": "text/x-python",
   "name": "python",
   "nbconvert_exporter": "python",
   "pygments_lexer": "ipython3",
   "version": "3.9.7"
  }
 },
 "nbformat": 4,
 "nbformat_minor": 5
}
